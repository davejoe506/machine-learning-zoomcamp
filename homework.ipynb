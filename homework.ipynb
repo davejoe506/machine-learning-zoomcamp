{
 "cells": [
  {
   "cell_type": "markdown",
   "id": "962f7935",
   "metadata": {},
   "source": [
    "## Homework #2"
   ]
  },
  {
   "cell_type": "code",
   "execution_count": 1,
   "id": "52ad9e29",
   "metadata": {},
   "outputs": [],
   "source": [
    "import numpy as np\n",
    "import pandas as pd\n",
    "import matplotlib.pyplot as plt\n",
    "import seaborn as sns"
   ]
  },
  {
   "cell_type": "code",
   "execution_count": 2,
   "id": "8733d98b",
   "metadata": {},
   "outputs": [
    {
     "data": {
      "image/png": "[encoded data removed]",
      "text/plain": [
       "<Figure size 640x480 with 1 Axes>"
      ]
     },
     "metadata": {},
     "output_type": "display_data"
    }
   ],
   "source": [
    "ca_housing = pd.read_csv('C:/Users/davej/.jupyter/mlzoomcamp/02-regression/ca_housing_prices.csv')\n",
    "sns.histplot(ca_housing['median_house_value'], bins=50)\n",
    "ca_housing = ca_housing[['latitude','longitude','housing_median_age','total_rooms','total_bedrooms','population',\n",
    "                         'households','median_income','median_house_value']]"
   ]
  },
  {
   "cell_type": "markdown",
   "id": "ee5c060b",
   "metadata": {},
   "source": [
    "###  Question 1"
   ]
  },
  {
   "cell_type": "code",
   "execution_count": 3,
   "id": "6ff00157",
   "metadata": {},
   "outputs": [
    {
     "data": {
      "text/plain": [
       "latitude                0\n",
       "longitude               0\n",
       "housing_median_age      0\n",
       "total_rooms             0\n",
       "total_bedrooms        207\n",
       "population              0\n",
       "households              0\n",
       "median_income           0\n",
       "median_house_value      0\n",
       "dtype: int64"
      ]
     },
     "execution_count": 3,
     "metadata": {},
     "output_type": "execute_result"
    }
   ],
   "source": [
    "ca_housing.isnull().sum()"
   ]
  },
  {
   "cell_type": "markdown",
   "id": "1e588f6f",
   "metadata": {},
   "source": [
    "###  Question 2"
   ]
  },
  {
   "cell_type": "code",
   "execution_count": 4,
   "id": "bdf6437d",
   "metadata": {},
   "outputs": [
    {
     "data": {
      "text/plain": [
       "1166.0"
      ]
     },
     "execution_count": 4,
     "metadata": {},
     "output_type": "execute_result"
    }
   ],
   "source": [
    "ca_housing['population'].median()"
   ]
  },
  {
   "cell_type": "markdown",
   "id": "49c9d75d",
   "metadata": {},
   "source": [
    "###  Question 3"
   ]
  },
  {
   "cell_type": "code",
   "execution_count": 5,
   "id": "b643be99",
   "metadata": {},
   "outputs": [],
   "source": [
    "#setting up the validation framework: train 60%, validate 20%, test 20%\n",
    "n = len(ca_housing)\n",
    "n_val = int(n * 0.2)\n",
    "n_test = int(n * 0.2)\n",
    "n_train = n - (n_val + n_test)"
   ]
  },
  {
   "cell_type": "code",
   "execution_count": 6,
   "id": "eec54fec",
   "metadata": {},
   "outputs": [
    {
     "data": {
      "text/plain": [
       "array([20046,  3024, 15663, ...,  5390,   860, 15795])"
      ]
     },
     "execution_count": 6,
     "metadata": {},
     "output_type": "execute_result"
    }
   ],
   "source": [
    "#before assigning dataframe observations to each subset, shuffle observations\n",
    "idx = np.arange(n)\n",
    "np.random.seed(42)\n",
    "np.random.shuffle(idx)\n",
    "idx"
   ]
  },
  {
   "cell_type": "code",
   "execution_count": 7,
   "id": "538e0a70",
   "metadata": {},
   "outputs": [],
   "source": [
    "#assign shuffled dataframe observations to each data subset\n",
    "chp_train = ca_housing.iloc[idx[:n_train]]\n",
    "chp_val = ca_housing.iloc[idx[n_train:(n_train + n_val)]]\n",
    "chp_test = ca_housing.iloc[idx[(n_train + n_val):]]"
   ]
  },
  {
   "cell_type": "code",
   "execution_count": 8,
   "id": "f5b1502a",
   "metadata": {},
   "outputs": [],
   "source": [
    "#reset indices for each data subset\n",
    "chp_train = chp_train.reset_index(drop=True)\n",
    "chp_val = chp_val.reset_index(drop=True)\n",
    "chp_test = chp_test.reset_index(drop=True)"
   ]
  },
  {
   "cell_type": "code",
   "execution_count": 9,
   "id": "1054a09c",
   "metadata": {},
   "outputs": [],
   "source": [
    "#apply log transformation to y vectors\n",
    "y_train = np.log1p(chp_train['median_house_value'].values)\n",
    "y_val = np.log1p(chp_val['median_house_value'].values)\n",
    "y_test = np.log1p(chp_test['median_house_value'].values)"
   ]
  },
  {
   "cell_type": "code",
   "execution_count": 10,
   "id": "141b753f",
   "metadata": {},
   "outputs": [],
   "source": [
    "#delete median_house_value vars from data subsets so that we don't actually use it as a feature to predict price\n",
    "del chp_train['median_house_value']\n",
    "del chp_val['median_house_value']\n",
    "del chp_test['median_house_value']"
   ]
  },
  {
   "cell_type": "code",
   "execution_count": 11,
   "id": "824d89f3",
   "metadata": {},
   "outputs": [],
   "source": [
    "#set up data preparation function\n",
    "base = list(chp_train.columns)\n",
    "def prepare_X(df,nan):\n",
    "    df = df.copy()\n",
    "    cp_num = df[base]\n",
    "    cp_num = cp_num.fillna(nan)\n",
    "    X = cp_num.values\n",
    "    return X"
   ]
  },
  {
   "cell_type": "code",
   "execution_count": 12,
   "id": "522ad841",
   "metadata": {},
   "outputs": [],
   "source": [
    "#set up linear regression training function\n",
    "def train_linear_regression(X, y):\n",
    "    ones = np.ones(X.shape[0])\n",
    "    X = np.column_stack([ones,X])\n",
    "    XTX = X.T.dot(X)\n",
    "    XTX_inv = np.linalg.inv(XTX)\n",
    "    w_full = XTX_inv.dot(X.T).dot(y)\n",
    "    return w_full[0], w_full[1:]"
   ]
  },
  {
   "cell_type": "code",
   "execution_count": 13,
   "id": "a91da0d2",
   "metadata": {},
   "outputs": [],
   "source": [
    "#set up rmse calculation function\n",
    "def rmse(y,y_pred):\n",
    "    se = (y - y_pred) ** 2\n",
    "    mse = se.mean()\n",
    "    return np.sqrt(mse)"
   ]
  },
  {
   "cell_type": "code",
   "execution_count": 14,
   "id": "a8f4cf6d",
   "metadata": {},
   "outputs": [
    {
     "data": {
      "text/plain": [
       "0.33"
      ]
     },
     "execution_count": 14,
     "metadata": {},
     "output_type": "execute_result"
    }
   ],
   "source": [
    "#calculate RMSE with 0 as NAs\n",
    "X_train = prepare_X(chp_train,0)\n",
    "w0, w = train_linear_regression(X_train, y_train)\n",
    "X_val = prepare_X(chp_val,0)\n",
    "y_pred = w0 + X_val.dot(w)\n",
    "score = rmse(y_val, y_pred)\n",
    "rmse_0 = round(score, 2)\n",
    "rmse_0"
   ]
  },
  {
   "cell_type": "code",
   "execution_count": 15,
   "id": "2c6db8b3",
   "metadata": {},
   "outputs": [
    {
     "data": {
      "text/plain": [
       "0.33"
      ]
     },
     "execution_count": 15,
     "metadata": {},
     "output_type": "execute_result"
    }
   ],
   "source": [
    "#calculate RMSE with mean of total_bedrooms as NAs\n",
    "X_train = prepare_X(chp_train,chp_train['total_bedrooms'].mean())\n",
    "w0, w = train_linear_regression(X_train, y_train)\n",
    "X_val = prepare_X(chp_val,chp_train['total_bedrooms'].mean())\n",
    "y_pred = w0 + X_val.dot(w)\n",
    "score = rmse(y_val, y_pred)\n",
    "rmse_mean = round(score, 2)\n",
    "rmse_mean"
   ]
  },
  {
   "cell_type": "markdown",
   "id": "686a53a0",
   "metadata": {},
   "source": [
    "###  Question 4"
   ]
  },
  {
   "cell_type": "code",
   "execution_count": 16,
   "id": "b6849e6d",
   "metadata": {},
   "outputs": [],
   "source": [
    "#set up regularized linear regression training function\n",
    "def train_linear_regression_reg(X, y, r=0.01):\n",
    "    ones = np.ones(X.shape[0])\n",
    "    X = np.column_stack([ones,X])\n",
    "    XTX = X.T.dot(X)\n",
    "    XTX = XTX + r * np.eye(XTX.shape[0])\n",
    "    XTX_inv = np.linalg.inv(XTX)\n",
    "    w_full = XTX_inv.dot(X.T).dot(y)\n",
    "    return w_full[0], w_full[1:]"
   ]
  },
  {
   "cell_type": "code",
   "execution_count": 17,
   "id": "3c378af7",
   "metadata": {},
   "outputs": [
    {
     "name": "stdout",
     "output_type": "stream",
     "text": [
      "0.0 -11.686975241911805 0.33\n",
      "1e-06 -11.686959176106466 0.33\n",
      "0.0001 -11.685368865381463 0.33\n",
      "0.001 -11.670931318209552 0.33\n",
      "0.01 -11.528493585718884 0.33\n",
      "0.1 -10.274500282155724 0.33\n",
      "1 -4.920480897785023 0.33\n",
      "5 -1.482095745620537 0.34\n",
      "10 -0.7899311832204973 0.34\n"
     ]
    }
   ],
   "source": [
    "#calculate RMSE based on different r values\n",
    "for r in [0.0, 0.000001, 0.0001, 0.001, 0.01, 0.1, 1, 5, 10]:\n",
    "    X_train = prepare_X(chp_train,0)\n",
    "    w0, w = train_linear_regression_reg(X_train, y_train, r=r)\n",
    "    X_val = prepare_X(chp_val,0)\n",
    "    y_pred = w0 + X_val.dot(w)\n",
    "    score = rmse(y_val, y_pred)\n",
    "    print(r, w0,  round(score, 2))"
   ]
  },
  {
   "cell_type": "markdown",
   "id": "1192af1f",
   "metadata": {},
   "source": [
    "###  Question 5"
   ]
  },
  {
   "cell_type": "code",
   "execution_count": 18,
   "id": "5cb214b8",
   "metadata": {},
   "outputs": [
    {
     "data": {
      "text/plain": [
       "[0.33884304805295884,\n",
       " 0.3362387255955875,\n",
       " 0.3320912318844027,\n",
       " 0.34051536090355167,\n",
       " 0.3389024066572691,\n",
       " 0.3434866725719515,\n",
       " 0.3451980953098988,\n",
       " 0.3395989927404383,\n",
       " 0.3466230873192809,\n",
       " 0.3365926124192128]"
      ]
     },
     "execution_count": 18,
     "metadata": {},
     "output_type": "execute_result"
    }
   ],
   "source": [
    "#create list of RMSE scores based on different seed values\n",
    "rmse_scores = []\n",
    "for s in [0, 1, 2, 3, 4, 5, 6, 7, 8, 9]:\n",
    "    idx = np.arange(n)\n",
    "    np.random.seed(s)\n",
    "    np.random.shuffle(idx)\n",
    "    idx\n",
    "\n",
    "    #assign shuffled dataframe observations to each subset\n",
    "    chp_train = ca_housing.iloc[idx[:n_train]]\n",
    "    chp_val = ca_housing.iloc[idx[n_train:(n_train + n_val)]]\n",
    "    chp_test = ca_housing.iloc[idx[(n_train + n_val):]]\n",
    "\n",
    "    #reset indices for each subset\n",
    "    chp_train = chp_train.reset_index(drop=True)\n",
    "    chp_val = chp_val.reset_index(drop=True)\n",
    "    chp_test = chp_test.reset_index(drop=True)\n",
    "\n",
    "    #apply log transformation to y vars\n",
    "    y_train = np.log1p(chp_train['median_house_value'].values)\n",
    "    y_val = np.log1p(chp_val['median_house_value'].values)\n",
    "    y_test = np.log1p(chp_test['median_house_value'].values)\n",
    "\n",
    "    #delete median_house_value vars from subsets so that we don't actually use it as a feature to predict price\n",
    "    del chp_train['median_house_value']\n",
    "    del chp_val['median_house_value']\n",
    "    del chp_test['median_house_value']\n",
    "    \n",
    "    X_train = prepare_X(chp_train,0)\n",
    "    w0, w = train_linear_regression(X_train, y_train)\n",
    "    X_val = prepare_X(chp_val,0)\n",
    "    y_pred = w0 + X_val.dot(w)\n",
    "    score = rmse(y_val, y_pred)\n",
    "    rmse_scores.append(score)\n",
    "rmse_scores"
   ]
  },
  {
   "cell_type": "code",
   "execution_count": 19,
   "id": "d8292c27",
   "metadata": {},
   "outputs": [
    {
     "data": {
      "text/plain": [
       "0.004"
      ]
     },
     "execution_count": 19,
     "metadata": {},
     "output_type": "execute_result"
    }
   ],
   "source": [
    "#calculate standard deviation of RMSE scores\n",
    "std = round(np.std(np.array(rmse_scores)), 3)\n",
    "std"
   ]
  },
  {
   "cell_type": "markdown",
   "id": "25f1f479",
   "metadata": {},
   "source": [
    "###  Question 6"
   ]
  },
  {
   "cell_type": "code",
   "execution_count": 20,
   "id": "4139fb29",
   "metadata": {},
   "outputs": [
    {
     "data": {
      "text/plain": [
       "0.345"
      ]
     },
     "execution_count": 20,
     "metadata": {},
     "output_type": "execute_result"
    }
   ],
   "source": [
    "#use seed 9, train model on entire training + validation dataset, and then validate using test dataset\n",
    "idx = np.arange(n)\n",
    "np.random.seed(9)\n",
    "np.random.shuffle(idx)\n",
    "idx\n",
    "\n",
    "chp_train = ca_housing.iloc[idx[:n_train]]\n",
    "chp_val = ca_housing.iloc[idx[n_train:(n_train + n_val)]]\n",
    "chp_test = ca_housing.iloc[idx[(n_train + n_val):]]\n",
    "\n",
    "y_train = np.log1p(chp_train['median_house_value'].values)\n",
    "y_val = np.log1p(chp_val['median_house_value'].values)\n",
    "y_test = np.log1p(chp_test['median_house_value'].values)\n",
    "\n",
    "del chp_train['median_house_value']\n",
    "del chp_val['median_house_value']\n",
    "del chp_test['median_house_value']\n",
    "\n",
    "chp_full_train = pd.concat([chp_train, chp_val])\n",
    "chp_full_train = chp_full_train.reset_index(drop=True)\n",
    "\n",
    "y_full_train = np.concatenate([y_train, y_val])\n",
    "X_full_train = prepare_X(chp_full_train,0)\n",
    "w0, w = train_linear_regression_reg(X_full_train, y_full_train, r=0.001)\n",
    "X_test = prepare_X(chp_test,0)\n",
    "y_pred = w0 + X_test.dot(w)\n",
    "round(rmse(y_test, y_pred), 3)"
   ]
  }
 ],
 "metadata": {
  "kernelspec": {
   "display_name": "Python 3 (ipykernel)",
   "language": "python",
   "name": "python3"
  },
  "language_info": {
   "codemirror_mode": {
    "name": "ipython",
    "version": 3
   },
   "file_extension": ".py",
   "mimetype": "text/x-python",
   "name": "python",
   "nbconvert_exporter": "python",
   "pygments_lexer": "ipython3",
   "version": "3.8.8"
  }
 },
 "nbformat": 4,
 "nbformat_minor": 5
}
