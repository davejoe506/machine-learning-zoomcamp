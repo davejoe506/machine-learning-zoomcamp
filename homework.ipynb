{
 "cells": [
  {
   "cell_type": "markdown",
   "id": "962f7935",
   "metadata": {},
   "source": [
    "## Homework #3"
   ]
  },
  {
   "cell_type": "code",
   "execution_count": 1,
   "id": "52ad9e29",
   "metadata": {},
   "outputs": [],
   "source": [
    "import numpy as np\n",
    "import pandas as pd\n",
    "import matplotlib.pyplot as plt\n",
    "import seaborn as sns\n",
    "from sklearn.model_selection import train_test_split\n",
    "from sklearn.metrics import mutual_info_score\n",
    "from sklearn.feature_extraction import DictVectorizer\n",
    "from sklearn.linear_model import LogisticRegression\n",
    "from sklearn.linear_model import Ridge"
   ]
  },
  {
   "cell_type": "code",
   "execution_count": 2,
   "id": "8733d98b",
   "metadata": {},
   "outputs": [],
   "source": [
    "ca_housing = pd.read_csv('C:/Users/davej/.jupyter/mlzoomcamp/02-regression/ca_housing_prices.csv')\n",
    "ca_housing = ca_housing[['latitude','longitude','housing_median_age','total_rooms','total_bedrooms','population',\n",
    "                         'households','median_income','median_house_value', 'ocean_proximity']]"
   ]
  },
  {
   "cell_type": "markdown",
   "id": "ee5c060b",
   "metadata": {},
   "source": [
    "###  Question 1"
   ]
  },
  {
   "cell_type": "code",
   "execution_count": 3,
   "id": "6ff00157",
   "metadata": {},
   "outputs": [
    {
     "data": {
      "text/plain": [
       "<1H OCEAN     9136\n",
       "INLAND        6551\n",
       "NEAR OCEAN    2658\n",
       "NEAR BAY      2290\n",
       "ISLAND           5\n",
       "Name: ocean_proximity, dtype: int64"
      ]
     },
     "execution_count": 3,
     "metadata": {},
     "output_type": "execute_result"
    }
   ],
   "source": [
    "ca_housing.isnull().sum()\n",
    "ca_housing['total_bedrooms'] = ca_housing['total_bedrooms'].fillna(0)\n",
    "ca_housing['rooms_per_household'] = ca_housing['total_rooms'] / ca_housing['households']\n",
    "ca_housing['bedrooms_per_room'] = ca_housing['total_bedrooms'] / ca_housing['total_rooms']\n",
    "ca_housing['population_per_household'] = ca_housing['population'] / ca_housing['households']\n",
    "ca_housing['ocean_proximity'].value_counts()"
   ]
  },
  {
   "cell_type": "markdown",
   "id": "1e588f6f",
   "metadata": {},
   "source": [
    "###  Question 2"
   ]
  },
  {
   "cell_type": "code",
   "execution_count": 4,
   "id": "bdf6437d",
   "metadata": {},
   "outputs": [
    {
     "name": "stdout",
     "output_type": "stream",
     "text": [
      "<class 'pandas.core.frame.DataFrame'>\n",
      "RangeIndex: 20640 entries, 0 to 20639\n",
      "Data columns (total 13 columns):\n",
      " #   Column                    Non-Null Count  Dtype  \n",
      "---  ------                    --------------  -----  \n",
      " 0   latitude                  20640 non-null  float64\n",
      " 1   longitude                 20640 non-null  float64\n",
      " 2   housing_median_age        20640 non-null  float64\n",
      " 3   total_rooms               20640 non-null  float64\n",
      " 4   total_bedrooms            20640 non-null  float64\n",
      " 5   population                20640 non-null  float64\n",
      " 6   households                20640 non-null  float64\n",
      " 7   median_income             20640 non-null  float64\n",
      " 8   median_house_value        20640 non-null  float64\n",
      " 9   ocean_proximity           20640 non-null  object \n",
      " 10  rooms_per_household       20640 non-null  float64\n",
      " 11  bedrooms_per_room         20640 non-null  float64\n",
      " 12  population_per_household  20640 non-null  float64\n",
      "dtypes: float64(12), object(1)\n",
      "memory usage: 2.0+ MB\n"
     ]
    },
    {
     "data": {
      "text/html": [
       "<div>\n",
       "<style scoped>\n",
       "    .dataframe tbody tr th:only-of-type {\n",
       "        vertical-align: middle;\n",
       "    }\n",
       "\n",
       "    .dataframe tbody tr th {\n",
       "        vertical-align: top;\n",
       "    }\n",
       "\n",
       "    .dataframe thead th {\n",
       "        text-align: right;\n",
       "    }\n",
       "</style>\n",
       "<table border=\"1\" class=\"dataframe\">\n",
       "  <thead>\n",
       "    <tr style=\"text-align: right;\">\n",
       "      <th></th>\n",
       "      <th>latitude</th>\n",
       "      <th>longitude</th>\n",
       "      <th>housing_median_age</th>\n",
       "      <th>total_rooms</th>\n",
       "      <th>total_bedrooms</th>\n",
       "      <th>population</th>\n",
       "      <th>households</th>\n",
       "      <th>median_income</th>\n",
       "      <th>median_house_value</th>\n",
       "      <th>rooms_per_household</th>\n",
       "      <th>bedrooms_per_room</th>\n",
       "      <th>population_per_household</th>\n",
       "    </tr>\n",
       "  </thead>\n",
       "  <tbody>\n",
       "    <tr>\n",
       "      <th>latitude</th>\n",
       "      <td>1.000000</td>\n",
       "      <td>-0.924664</td>\n",
       "      <td>0.011173</td>\n",
       "      <td>-0.036100</td>\n",
       "      <td>-0.065318</td>\n",
       "      <td>-0.108785</td>\n",
       "      <td>-0.071035</td>\n",
       "      <td>-0.079809</td>\n",
       "      <td>-0.144160</td>\n",
       "      <td>0.106389</td>\n",
       "      <td>-0.104112</td>\n",
       "      <td>0.002366</td>\n",
       "    </tr>\n",
       "    <tr>\n",
       "      <th>longitude</th>\n",
       "      <td>-0.924664</td>\n",
       "      <td>1.000000</td>\n",
       "      <td>-0.108197</td>\n",
       "      <td>0.044568</td>\n",
       "      <td>0.068082</td>\n",
       "      <td>0.099773</td>\n",
       "      <td>0.055310</td>\n",
       "      <td>-0.015176</td>\n",
       "      <td>-0.045967</td>\n",
       "      <td>-0.027540</td>\n",
       "      <td>0.084836</td>\n",
       "      <td>0.002476</td>\n",
       "    </tr>\n",
       "    <tr>\n",
       "      <th>housing_median_age</th>\n",
       "      <td>0.011173</td>\n",
       "      <td>-0.108197</td>\n",
       "      <td>1.000000</td>\n",
       "      <td>-0.361262</td>\n",
       "      <td>-0.317063</td>\n",
       "      <td>-0.296244</td>\n",
       "      <td>-0.302916</td>\n",
       "      <td>-0.119034</td>\n",
       "      <td>0.105623</td>\n",
       "      <td>-0.153277</td>\n",
       "      <td>0.125396</td>\n",
       "      <td>0.013191</td>\n",
       "    </tr>\n",
       "    <tr>\n",
       "      <th>total_rooms</th>\n",
       "      <td>-0.036100</td>\n",
       "      <td>0.044568</td>\n",
       "      <td>-0.361262</td>\n",
       "      <td>1.000000</td>\n",
       "      <td>0.920196</td>\n",
       "      <td>0.857126</td>\n",
       "      <td>0.918484</td>\n",
       "      <td>0.198050</td>\n",
       "      <td>0.134153</td>\n",
       "      <td>0.133798</td>\n",
       "      <td>-0.174583</td>\n",
       "      <td>-0.024581</td>\n",
       "    </tr>\n",
       "    <tr>\n",
       "      <th>total_bedrooms</th>\n",
       "      <td>-0.065318</td>\n",
       "      <td>0.068082</td>\n",
       "      <td>-0.317063</td>\n",
       "      <td>0.920196</td>\n",
       "      <td>1.000000</td>\n",
       "      <td>0.866266</td>\n",
       "      <td>0.966507</td>\n",
       "      <td>-0.007295</td>\n",
       "      <td>0.049148</td>\n",
       "      <td>0.002717</td>\n",
       "      <td>0.122205</td>\n",
       "      <td>-0.028019</td>\n",
       "    </tr>\n",
       "    <tr>\n",
       "      <th>population</th>\n",
       "      <td>-0.108785</td>\n",
       "      <td>0.099773</td>\n",
       "      <td>-0.296244</td>\n",
       "      <td>0.857126</td>\n",
       "      <td>0.866266</td>\n",
       "      <td>1.000000</td>\n",
       "      <td>0.907222</td>\n",
       "      <td>0.004834</td>\n",
       "      <td>-0.024650</td>\n",
       "      <td>-0.072213</td>\n",
       "      <td>0.031397</td>\n",
       "      <td>0.069863</td>\n",
       "    </tr>\n",
       "    <tr>\n",
       "      <th>households</th>\n",
       "      <td>-0.071035</td>\n",
       "      <td>0.055310</td>\n",
       "      <td>-0.302916</td>\n",
       "      <td>0.918484</td>\n",
       "      <td>0.966507</td>\n",
       "      <td>0.907222</td>\n",
       "      <td>1.000000</td>\n",
       "      <td>0.013033</td>\n",
       "      <td>0.065843</td>\n",
       "      <td>-0.080598</td>\n",
       "      <td>0.059818</td>\n",
       "      <td>-0.027309</td>\n",
       "    </tr>\n",
       "    <tr>\n",
       "      <th>median_income</th>\n",
       "      <td>-0.079809</td>\n",
       "      <td>-0.015176</td>\n",
       "      <td>-0.119034</td>\n",
       "      <td>0.198050</td>\n",
       "      <td>-0.007295</td>\n",
       "      <td>0.004834</td>\n",
       "      <td>0.013033</td>\n",
       "      <td>1.000000</td>\n",
       "      <td>0.688075</td>\n",
       "      <td>0.326895</td>\n",
       "      <td>-0.573836</td>\n",
       "      <td>0.018766</td>\n",
       "    </tr>\n",
       "    <tr>\n",
       "      <th>median_house_value</th>\n",
       "      <td>-0.144160</td>\n",
       "      <td>-0.045967</td>\n",
       "      <td>0.105623</td>\n",
       "      <td>0.134153</td>\n",
       "      <td>0.049148</td>\n",
       "      <td>-0.024650</td>\n",
       "      <td>0.065843</td>\n",
       "      <td>0.688075</td>\n",
       "      <td>1.000000</td>\n",
       "      <td>0.151948</td>\n",
       "      <td>-0.238759</td>\n",
       "      <td>-0.023737</td>\n",
       "    </tr>\n",
       "    <tr>\n",
       "      <th>rooms_per_household</th>\n",
       "      <td>0.106389</td>\n",
       "      <td>-0.027540</td>\n",
       "      <td>-0.153277</td>\n",
       "      <td>0.133798</td>\n",
       "      <td>0.002717</td>\n",
       "      <td>-0.072213</td>\n",
       "      <td>-0.080598</td>\n",
       "      <td>0.326895</td>\n",
       "      <td>0.151948</td>\n",
       "      <td>1.000000</td>\n",
       "      <td>-0.387465</td>\n",
       "      <td>-0.004852</td>\n",
       "    </tr>\n",
       "    <tr>\n",
       "      <th>bedrooms_per_room</th>\n",
       "      <td>-0.104112</td>\n",
       "      <td>0.084836</td>\n",
       "      <td>0.125396</td>\n",
       "      <td>-0.174583</td>\n",
       "      <td>0.122205</td>\n",
       "      <td>0.031397</td>\n",
       "      <td>0.059818</td>\n",
       "      <td>-0.573836</td>\n",
       "      <td>-0.238759</td>\n",
       "      <td>-0.387465</td>\n",
       "      <td>1.000000</td>\n",
       "      <td>0.003047</td>\n",
       "    </tr>\n",
       "    <tr>\n",
       "      <th>population_per_household</th>\n",
       "      <td>0.002366</td>\n",
       "      <td>0.002476</td>\n",
       "      <td>0.013191</td>\n",
       "      <td>-0.024581</td>\n",
       "      <td>-0.028019</td>\n",
       "      <td>0.069863</td>\n",
       "      <td>-0.027309</td>\n",
       "      <td>0.018766</td>\n",
       "      <td>-0.023737</td>\n",
       "      <td>-0.004852</td>\n",
       "      <td>0.003047</td>\n",
       "      <td>1.000000</td>\n",
       "    </tr>\n",
       "  </tbody>\n",
       "</table>\n",
       "</div>"
      ],
      "text/plain": [
       "                          latitude  longitude  housing_median_age  \\\n",
       "latitude                  1.000000  -0.924664            0.011173   \n",
       "longitude                -0.924664   1.000000           -0.108197   \n",
       "housing_median_age        0.011173  -0.108197            1.000000   \n",
       "total_rooms              -0.036100   0.044568           -0.361262   \n",
       "total_bedrooms           -0.065318   0.068082           -0.317063   \n",
       "population               -0.108785   0.099773           -0.296244   \n",
       "households               -0.071035   0.055310           -0.302916   \n",
       "median_income            -0.079809  -0.015176           -0.119034   \n",
       "median_house_value       -0.144160  -0.045967            0.105623   \n",
       "rooms_per_household       0.106389  -0.027540           -0.153277   \n",
       "bedrooms_per_room        -0.104112   0.084836            0.125396   \n",
       "population_per_household  0.002366   0.002476            0.013191   \n",
       "\n",
       "                          total_rooms  total_bedrooms  population  households  \\\n",
       "latitude                    -0.036100       -0.065318   -0.108785   -0.071035   \n",
       "longitude                    0.044568        0.068082    0.099773    0.055310   \n",
       "housing_median_age          -0.361262       -0.317063   -0.296244   -0.302916   \n",
       "total_rooms                  1.000000        0.920196    0.857126    0.918484   \n",
       "total_bedrooms               0.920196        1.000000    0.866266    0.966507   \n",
       "population                   0.857126        0.866266    1.000000    0.907222   \n",
       "households                   0.918484        0.966507    0.907222    1.000000   \n",
       "median_income                0.198050       -0.007295    0.004834    0.013033   \n",
       "median_house_value           0.134153        0.049148   -0.024650    0.065843   \n",
       "rooms_per_household          0.133798        0.002717   -0.072213   -0.080598   \n",
       "bedrooms_per_room           -0.174583        0.122205    0.031397    0.059818   \n",
       "population_per_household    -0.024581       -0.028019    0.069863   -0.027309   \n",
       "\n",
       "                          median_income  median_house_value  \\\n",
       "latitude                      -0.079809           -0.144160   \n",
       "longitude                     -0.015176           -0.045967   \n",
       "housing_median_age            -0.119034            0.105623   \n",
       "total_rooms                    0.198050            0.134153   \n",
       "total_bedrooms                -0.007295            0.049148   \n",
       "population                     0.004834           -0.024650   \n",
       "households                     0.013033            0.065843   \n",
       "median_income                  1.000000            0.688075   \n",
       "median_house_value             0.688075            1.000000   \n",
       "rooms_per_household            0.326895            0.151948   \n",
       "bedrooms_per_room             -0.573836           -0.238759   \n",
       "population_per_household       0.018766           -0.023737   \n",
       "\n",
       "                          rooms_per_household  bedrooms_per_room  \\\n",
       "latitude                             0.106389          -0.104112   \n",
       "longitude                           -0.027540           0.084836   \n",
       "housing_median_age                  -0.153277           0.125396   \n",
       "total_rooms                          0.133798          -0.174583   \n",
       "total_bedrooms                       0.002717           0.122205   \n",
       "population                          -0.072213           0.031397   \n",
       "households                          -0.080598           0.059818   \n",
       "median_income                        0.326895          -0.573836   \n",
       "median_house_value                   0.151948          -0.238759   \n",
       "rooms_per_household                  1.000000          -0.387465   \n",
       "bedrooms_per_room                   -0.387465           1.000000   \n",
       "population_per_household            -0.004852           0.003047   \n",
       "\n",
       "                          population_per_household  \n",
       "latitude                                  0.002366  \n",
       "longitude                                 0.002476  \n",
       "housing_median_age                        0.013191  \n",
       "total_rooms                              -0.024581  \n",
       "total_bedrooms                           -0.028019  \n",
       "population                                0.069863  \n",
       "households                               -0.027309  \n",
       "median_income                             0.018766  \n",
       "median_house_value                       -0.023737  \n",
       "rooms_per_household                      -0.004852  \n",
       "bedrooms_per_room                         0.003047  \n",
       "population_per_household                  1.000000  "
      ]
     },
     "execution_count": 4,
     "metadata": {},
     "output_type": "execute_result"
    }
   ],
   "source": [
    "ca_housing.info()\n",
    "numerical = ['latitude', 'longitude', 'housing_median_age', 'total_rooms', 'total_bedrooms', 'population',\n",
    "             'households', 'median_income', 'median_house_value', 'rooms_per_household', 'bedrooms_per_room',\n",
    "             'population_per_household']\n",
    "ca_housing[numerical].corr()"
   ]
  },
  {
   "cell_type": "markdown",
   "id": "49c9d75d",
   "metadata": {},
   "source": [
    "###  Question 3"
   ]
  },
  {
   "cell_type": "code",
   "execution_count": 5,
   "id": "b643be99",
   "metadata": {},
   "outputs": [],
   "source": [
    "ca_housing['above_average'] = (ca_housing['median_house_value'] > ca_housing['median_house_value'].mean()).astype(int)"
   ]
  },
  {
   "cell_type": "code",
   "execution_count": 6,
   "id": "eec54fec",
   "metadata": {},
   "outputs": [
    {
     "data": {
      "text/plain": [
       "(12384, 4128)"
      ]
     },
     "execution_count": 6,
     "metadata": {},
     "output_type": "execute_result"
    }
   ],
   "source": [
    "#setting up the validation framework using sklearn\n",
    "cah_full_train, cah_test = train_test_split(ca_housing, test_size=0.2, random_state=42)\n",
    "len(cah_full_train), len(cah_test)\n",
    "cah_train, cah_val = train_test_split(cah_full_train, test_size=0.25, random_state=42)\n",
    "len(cah_train), len(cah_val)"
   ]
  },
  {
   "cell_type": "code",
   "execution_count": 7,
   "id": "f5b1502a",
   "metadata": {},
   "outputs": [],
   "source": [
    "#reset indices for each data subset\n",
    "cah_train = cah_train.reset_index(drop=True)\n",
    "cah_val = cah_val.reset_index(drop=True)\n",
    "cah_test = cah_test.reset_index(drop=True)\n",
    "cah_full_train = cah_full_train.reset_index(drop=True)"
   ]
  },
  {
   "cell_type": "code",
   "execution_count": 8,
   "id": "1054a09c",
   "metadata": {},
   "outputs": [],
   "source": [
    "#creating vector for y vars\n",
    "y_train = cah_train['above_average'].values\n",
    "y_val = cah_val['above_average'].values\n",
    "y_test = cah_test['above_average'].values\n",
    "y_full_train = cah_full_train['above_average'].values"
   ]
  },
  {
   "cell_type": "code",
   "execution_count": 9,
   "id": "141b753f",
   "metadata": {},
   "outputs": [],
   "source": [
    "#delete median_house_value vars from subsets so that we don't accidentally use it as a feature to predict target var\n",
    "cah_train = cah_train.drop(['median_house_value'], axis=1)\n",
    "cah_val = cah_val.drop(['median_house_value'], axis=1)\n",
    "cah_test = cah_test.drop(['median_house_value'], axis=1)"
   ]
  },
  {
   "cell_type": "code",
   "execution_count": 10,
   "id": "824d89f3",
   "metadata": {},
   "outputs": [
    {
     "data": {
      "text/plain": [
       "0.1"
      ]
     },
     "execution_count": 10,
     "metadata": {},
     "output_type": "execute_result"
    }
   ],
   "source": [
    "round(mutual_info_score(cah_train['above_average'], cah_train['ocean_proximity']),2)"
   ]
  },
  {
   "cell_type": "markdown",
   "id": "686a53a0",
   "metadata": {},
   "source": [
    "###  Question 4"
   ]
  },
  {
   "cell_type": "code",
   "execution_count": 11,
   "id": "b6849e6d",
   "metadata": {},
   "outputs": [],
   "source": [
    "#training data\n",
    "train_columns = numerical.copy()\n",
    "train_columns.remove('median_house_value')\n",
    "train_columns = train_columns + ['ocean_proximity']\n",
    "train_dicts = cah_train[train_columns].to_dict(orient='records')\n",
    "dv = DictVectorizer(sparse=False)\n",
    "X_train = dv.fit_transform(train_dicts)\n",
    "val_dicts = cah_val[train_columns].to_dict(orient='records')\n",
    "X_val = dv.transform(val_dicts)"
   ]
  },
  {
   "cell_type": "code",
   "execution_count": 12,
   "id": "3c378af7",
   "metadata": {},
   "outputs": [
    {
     "data": {
      "text/plain": [
       "0.8359980620155039"
      ]
     },
     "execution_count": 12,
     "metadata": {},
     "output_type": "execute_result"
    }
   ],
   "source": [
    "#training logistic regression\n",
    "model = LogisticRegression(solver=\"liblinear\", C=1.0, max_iter=1000, random_state=42)\n",
    "model.fit(X_train, y_train)\n",
    "y_pred = model.predict_proba(X_val)[:, 1]\n",
    "churn_decision = (y_pred >= 0.5)\n",
    "churn_decision = churn_decision.astype(int)\n",
    "global_score = (y_val == churn_decision).mean()\n",
    "global_score"
   ]
  },
  {
   "cell_type": "markdown",
   "id": "1192af1f",
   "metadata": {},
   "source": [
    "###  Question 5"
   ]
  },
  {
   "cell_type": "code",
   "execution_count": 13,
   "id": "5cb214b8",
   "metadata": {},
   "outputs": [
    {
     "name": "stdout",
     "output_type": "stream",
     "text": [
      "latitude 0.003633720930232509\n",
      "longitude 0.004118217054263518\n",
      "housing_median_age 0.0043604651162790775\n",
      "total_rooms -0.00024224806201555982\n",
      "total_bedrooms -0.001211240310077577\n",
      "population 0.009689922480620172\n",
      "households 0.0019379844961240345\n",
      "median_income 0.050629844961240345\n",
      "rooms_per_household 0.0007267441860464574\n",
      "bedrooms_per_room -0.00024224806201555982\n",
      "population_per_household 0.0002422480620154488\n",
      "ocean_proximity 0.015746124031007724\n"
     ]
    }
   ],
   "source": [
    "#calculate model accuracy for each iteration that excludes a different feature from the training set\n",
    "for var in train_columns:\n",
    "    tc_copy = train_columns.copy()\n",
    "    tc_copy.remove(var)\n",
    "    train_dicts = cah_train[tc_copy].to_dict(orient='records')\n",
    "    dv = DictVectorizer(sparse=False)\n",
    "    X_train = dv.fit_transform(train_dicts)\n",
    "    val_dicts = cah_val[tc_copy].to_dict(orient='records')\n",
    "    X_val = dv.transform(val_dicts)\n",
    "\n",
    "    model = LogisticRegression(solver=\"liblinear\", C=1.0, max_iter=1000, random_state=42)\n",
    "    model.fit(X_train, y_train)\n",
    "    y_pred = model.predict_proba(X_val)[:, 1]\n",
    "    churn_decision = (y_pred >= 0.5)\n",
    "    churn_decision = churn_decision.astype(int)\n",
    "    score = (y_val == churn_decision).mean()\n",
    "    print(var, global_score - score)"
   ]
  },
  {
   "cell_type": "markdown",
   "id": "25f1f479",
   "metadata": {},
   "source": [
    "###  Question 6"
   ]
  },
  {
   "cell_type": "code",
   "execution_count": 14,
   "id": "4139fb29",
   "metadata": {},
   "outputs": [
    {
     "data": {
      "text/plain": [
       "(12384, 4128)"
      ]
     },
     "execution_count": 14,
     "metadata": {},
     "output_type": "execute_result"
    }
   ],
   "source": [
    "#setting up the validation framework using sklearn\n",
    "cah_full_train, cah_test = train_test_split(ca_housing, test_size=0.2, random_state=42)\n",
    "len(cah_full_train), len(cah_test)\n",
    "cah_train, cah_val = train_test_split(cah_full_train, test_size=0.25, random_state=42)\n",
    "len(cah_train), len(cah_val)"
   ]
  },
  {
   "cell_type": "code",
   "execution_count": 15,
   "id": "a3d1bc55",
   "metadata": {},
   "outputs": [],
   "source": [
    "#reset indices for each data subset\n",
    "cah_train = cah_train.reset_index(drop=True)\n",
    "cah_val = cah_val.reset_index(drop=True)"
   ]
  },
  {
   "cell_type": "code",
   "execution_count": 16,
   "id": "a8f63705",
   "metadata": {},
   "outputs": [],
   "source": [
    "#creating vector for y vars\n",
    "y_train_q6 =  np.log1p(cah_train['median_house_value'].values)\n",
    "y_val_q6 =  np.log1p(cah_val['median_house_value'].values)"
   ]
  },
  {
   "cell_type": "code",
   "execution_count": 17,
   "id": "2703fe2b",
   "metadata": {},
   "outputs": [],
   "source": [
    "#delete median_house_value vars from subsets so that we don't accidentally use it as a feature to predict target var\n",
    "cah_train = cah_train.drop(['median_house_value'], axis=1)\n",
    "cah_val = cah_val.drop(['median_house_value'], axis=1)"
   ]
  },
  {
   "cell_type": "code",
   "execution_count": 18,
   "id": "ba27c265",
   "metadata": {},
   "outputs": [],
   "source": [
    "#training data\n",
    "train_dicts = cah_train[train_columns].to_dict(orient='records')\n",
    "dv = DictVectorizer(sparse=False)\n",
    "X_train = dv.fit_transform(train_dicts)\n",
    "val_dicts = cah_val[train_columns].to_dict(orient='records')\n",
    "X_val = dv.transform(val_dicts)"
   ]
  },
  {
   "cell_type": "code",
   "execution_count": 19,
   "id": "561b376a",
   "metadata": {},
   "outputs": [],
   "source": [
    "#set up rmse calculation function\n",
    "def rmse(y,y_pred):\n",
    "    se = (y - y_pred) ** 2\n",
    "    mse = se.mean()\n",
    "    return np.sqrt(mse)"
   ]
  },
  {
   "cell_type": "code",
   "execution_count": 20,
   "id": "ed8f8efd",
   "metadata": {},
   "outputs": [
    {
     "name": "stdout",
     "output_type": "stream",
     "text": [
      "0.0 0.524\n",
      "0.01 0.524\n",
      "0.1 0.524\n",
      "1.0 0.524\n",
      "10.0 0.524\n"
     ]
    }
   ],
   "source": [
    "#training ridge for different alpha values\n",
    "for a in [0.00, 0.01, 0.10, 1.00, 10.0]:\n",
    "    model = Ridge(alpha=a, solver=\"sag\", random_state=42)\n",
    "    model.fit(X_train, y_train_q6)\n",
    "    y_pred = model.predict(X_val)\n",
    "    score = round(rmse(y_val_q6, y_pred),3)\n",
    "    print(a, score)"
   ]
  }
 ],
 "metadata": {
  "kernelspec": {
   "display_name": "Python 3 (ipykernel)",
   "language": "python",
   "name": "python3"
  },
  "language_info": {
   "codemirror_mode": {
    "name": "ipython",
    "version": 3
   },
   "file_extension": ".py",
   "mimetype": "text/x-python",
   "name": "python",
   "nbconvert_exporter": "python",
   "pygments_lexer": "ipython3",
   "version": "3.8.8"
  }
 },
 "nbformat": 4,
 "nbformat_minor": 5
}
