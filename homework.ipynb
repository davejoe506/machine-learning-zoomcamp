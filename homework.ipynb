{
 "cells": [
  {
   "cell_type": "markdown",
   "id": "962f7935",
   "metadata": {},
   "source": [
    "## Homework #4"
   ]
  },
  {
   "cell_type": "code",
   "execution_count": 1,
   "id": "52ad9e29",
   "metadata": {},
   "outputs": [],
   "source": [
    "import numpy as np\n",
    "import pandas as pd\n",
    "import matplotlib.pyplot as plt\n",
    "from sklearn.model_selection import train_test_split\n",
    "from sklearn.feature_extraction import DictVectorizer\n",
    "from sklearn.linear_model import LogisticRegression\n",
    "from sklearn.metrics import roc_auc_score\n",
    "from tqdm.auto import tqdm\n",
    "from sklearn.model_selection import KFold"
   ]
  },
  {
   "cell_type": "code",
   "execution_count": 2,
   "id": "8733d98b",
   "metadata": {},
   "outputs": [],
   "source": [
    "cc = pd.read_csv('C:/Users/davej/.jupyter/mlzoomcamp/04-evaluation/aer_credit_card.csv')"
   ]
  },
  {
   "cell_type": "markdown",
   "id": "ee5c060b",
   "metadata": {},
   "source": [
    "###  Question 1"
   ]
  },
  {
   "cell_type": "code",
   "execution_count": 3,
   "id": "6ff00157",
   "metadata": {},
   "outputs": [],
   "source": [
    "#mapping 'yes' to 1 and 'no' to 0 for card var\n",
    "cc['card'] = (cc['card'] == 'yes').astype(int)"
   ]
  },
  {
   "cell_type": "code",
   "execution_count": 4,
   "id": "27596841",
   "metadata": {},
   "outputs": [],
   "source": [
    "#setting up the validation framework\n",
    "cc_full_train, cc_test = train_test_split(cc, test_size=0.2, random_state=1)\n",
    "cc_train, cc_val = train_test_split(cc_full_train, test_size=0.25, random_state=1)"
   ]
  },
  {
   "cell_type": "code",
   "execution_count": 5,
   "id": "961eb319",
   "metadata": {},
   "outputs": [],
   "source": [
    "#reset indices for each data subset\n",
    "cc_train = cc_train.reset_index(drop=True)\n",
    "cc_val = cc_val.reset_index(drop=True)\n",
    "cc_test = cc_test.reset_index(drop=True)"
   ]
  },
  {
   "cell_type": "code",
   "execution_count": 6,
   "id": "ec7ffdbb",
   "metadata": {},
   "outputs": [],
   "source": [
    "#creating vector for y vars\n",
    "y_train = cc_train['card'].values\n",
    "y_val = cc_val['card'].values\n",
    "y_test = cc_test['card'].values"
   ]
  },
  {
   "cell_type": "code",
   "execution_count": 7,
   "id": "0b635a5d",
   "metadata": {},
   "outputs": [],
   "source": [
    "#delete card vars from subsets so that we don't accidentally use it as a feature to predict target var\n",
    "del cc_train['card']\n",
    "del cc_val['card']\n",
    "del cc_test['card']"
   ]
  },
  {
   "cell_type": "code",
   "execution_count": 8,
   "id": "d6374643",
   "metadata": {},
   "outputs": [],
   "source": [
    "#creating numerical and categorical variable name lists\n",
    "numerical = ['reports', 'age', 'income', 'share', 'expenditure', 'dependents', 'months', 'active']\n",
    "categorical = [\n",
    "    'owner',\n",
    "    'selfemp',\n",
    "    'majorcards'\n",
    "]"
   ]
  },
  {
   "cell_type": "code",
   "execution_count": 9,
   "id": "3d5f705a",
   "metadata": {},
   "outputs": [
    {
     "name": "stdout",
     "output_type": "stream",
     "text": [
      "  reports, 0.717\n",
      "      age, 0.524\n",
      "   income, 0.591\n",
      "    share, 0.989\n",
      "expenditure, 0.991\n",
      "dependents, 0.533\n",
      "   months, 0.529\n",
      "   active, 0.604\n"
     ]
    }
   ],
   "source": [
    "#calculating roc auc using each numerical variable\n",
    "for var in numerical:\n",
    "    auc = roc_auc_score(y_train, cc_train[var])\n",
    "    if auc < 0.5:\n",
    "        auc = roc_auc_score(y_train, -cc_train[var])\n",
    "    print('%9s, %.3f' % (var, auc))"
   ]
  },
  {
   "cell_type": "markdown",
   "id": "1e588f6f",
   "metadata": {},
   "source": [
    "###  Question 2"
   ]
  },
  {
   "cell_type": "code",
   "execution_count": 10,
   "id": "bdf6437d",
   "metadata": {},
   "outputs": [],
   "source": [
    "#create train function\n",
    "def train(df, y, C=1.0): #C = parameter tuning; smaller the C, stronger the regularization\n",
    "    dicts =  df[categorical + numerical].to_dict(orient='records')\n",
    "    dv = DictVectorizer(sparse=False)\n",
    "    X_train = dv.fit_transform(dicts)\n",
    "    model = LogisticRegression(solver='liblinear', C=C, max_iter=1000) #C = parameter tuning\n",
    "    model.fit(X_train, y)\n",
    "    return dv, model\n",
    "dv, model = train(cc_train, y_train)"
   ]
  },
  {
   "cell_type": "code",
   "execution_count": 11,
   "id": "1ef7e9d5",
   "metadata": {},
   "outputs": [],
   "source": [
    "#create predict function\n",
    "def predict(df, dv, model):\n",
    "    dicts =  df[categorical + numerical].to_dict(orient='records')\n",
    "    X = dv.transform(dicts)\n",
    "    y_pred = model.predict_proba(X)[:, 1]\n",
    "    return y_pred\n",
    "y_pred = predict(cc_val, dv, model)"
   ]
  },
  {
   "cell_type": "code",
   "execution_count": 12,
   "id": "4308aac3",
   "metadata": {},
   "outputs": [
    {
     "data": {
      "text/plain": [
       "0.995"
      ]
     },
     "execution_count": 12,
     "metadata": {},
     "output_type": "execute_result"
    }
   ],
   "source": [
    "#calculate roc auc\n",
    "round(roc_auc_score(y_val, y_pred), 3)"
   ]
  },
  {
   "cell_type": "markdown",
   "id": "49c9d75d",
   "metadata": {},
   "source": [
    "###  Question 3"
   ]
  },
  {
   "cell_type": "code",
   "execution_count": 13,
   "id": "b643be99",
   "metadata": {},
   "outputs": [
    {
     "data": {
      "text/plain": [
       "[(0.0, 211, 53, 0, 0),\n",
       " (0.01, 211, 34, 0, 19),\n",
       " (0.02, 211, 31, 0, 22),\n",
       " (0.03, 211, 24, 0, 29),\n",
       " (0.04, 211, 22, 0, 31),\n",
       " (0.05, 211, 22, 0, 31),\n",
       " (0.06, 211, 19, 0, 34),\n",
       " (0.07, 211, 19, 0, 34),\n",
       " (0.08, 210, 18, 1, 35),\n",
       " (0.09, 210, 18, 1, 35),\n",
       " (0.1, 210, 17, 1, 36),\n",
       " (0.11, 210, 17, 1, 36),\n",
       " (0.12, 210, 17, 1, 36),\n",
       " (0.13, 210, 11, 1, 42),\n",
       " (0.14, 208, 9, 3, 44),\n",
       " (0.15, 208, 9, 3, 44),\n",
       " (0.16, 208, 7, 3, 46),\n",
       " (0.17, 208, 7, 3, 46),\n",
       " (0.18, 207, 6, 4, 47),\n",
       " (0.19, 207, 5, 4, 48),\n",
       " (0.2, 207, 5, 4, 48),\n",
       " (0.21, 207, 5, 4, 48),\n",
       " (0.22, 207, 5, 4, 48),\n",
       " (0.23, 207, 5, 4, 48),\n",
       " (0.24, 206, 5, 5, 48),\n",
       " (0.25, 206, 5, 5, 48),\n",
       " (0.26, 206, 5, 5, 48),\n",
       " (0.27, 206, 5, 5, 48),\n",
       " (0.28, 206, 5, 5, 48),\n",
       " (0.29, 206, 5, 5, 48),\n",
       " (0.3, 205, 5, 6, 48),\n",
       " (0.31, 205, 4, 6, 49),\n",
       " (0.32, 205, 4, 6, 49),\n",
       " (0.33, 205, 4, 6, 49),\n",
       " (0.34, 205, 2, 6, 51),\n",
       " (0.35000000000000003, 205, 1, 6, 52),\n",
       " (0.36, 205, 1, 6, 52),\n",
       " (0.37, 205, 1, 6, 52),\n",
       " (0.38, 205, 1, 6, 52),\n",
       " (0.39, 205, 1, 6, 52),\n",
       " (0.4, 205, 1, 6, 52),\n",
       " (0.41000000000000003, 205, 1, 6, 52),\n",
       " (0.42, 204, 1, 7, 52),\n",
       " (0.43, 204, 1, 7, 52),\n",
       " (0.44, 204, 1, 7, 52),\n",
       " (0.45, 204, 1, 7, 52),\n",
       " (0.46, 204, 1, 7, 52),\n",
       " (0.47000000000000003, 204, 1, 7, 52),\n",
       " (0.48, 204, 1, 7, 52),\n",
       " (0.49, 204, 1, 7, 52),\n",
       " (0.5, 204, 1, 7, 52),\n",
       " (0.51, 204, 1, 7, 52),\n",
       " (0.52, 204, 1, 7, 52),\n",
       " (0.53, 204, 1, 7, 52),\n",
       " (0.54, 204, 1, 7, 52),\n",
       " (0.55, 204, 1, 7, 52),\n",
       " (0.56, 204, 1, 7, 52),\n",
       " (0.5700000000000001, 204, 1, 7, 52),\n",
       " (0.58, 204, 1, 7, 52),\n",
       " (0.59, 204, 1, 7, 52),\n",
       " (0.6, 204, 1, 7, 52),\n",
       " (0.61, 204, 1, 7, 52),\n",
       " (0.62, 204, 1, 7, 52),\n",
       " (0.63, 204, 1, 7, 52),\n",
       " (0.64, 204, 1, 7, 52),\n",
       " (0.65, 204, 1, 7, 52),\n",
       " (0.66, 204, 1, 7, 52),\n",
       " (0.67, 204, 1, 7, 52),\n",
       " (0.68, 204, 1, 7, 52),\n",
       " (0.6900000000000001, 204, 1, 7, 52),\n",
       " (0.7000000000000001, 204, 1, 7, 52),\n",
       " (0.71, 204, 1, 7, 52),\n",
       " (0.72, 204, 1, 7, 52),\n",
       " (0.73, 204, 1, 7, 52),\n",
       " (0.74, 204, 1, 7, 52),\n",
       " (0.75, 204, 1, 7, 52),\n",
       " (0.76, 204, 1, 7, 52),\n",
       " (0.77, 204, 1, 7, 52),\n",
       " (0.78, 204, 1, 7, 52),\n",
       " (0.79, 204, 1, 7, 52),\n",
       " (0.8, 204, 1, 7, 52),\n",
       " (0.81, 204, 1, 7, 52),\n",
       " (0.8200000000000001, 204, 1, 7, 52),\n",
       " (0.8300000000000001, 204, 1, 7, 52),\n",
       " (0.84, 204, 1, 7, 52),\n",
       " (0.85, 204, 0, 7, 53),\n",
       " (0.86, 204, 0, 7, 53),\n",
       " (0.87, 204, 0, 7, 53),\n",
       " (0.88, 204, 0, 7, 53),\n",
       " (0.89, 204, 0, 7, 53),\n",
       " (0.9, 204, 0, 7, 53),\n",
       " (0.91, 204, 0, 7, 53),\n",
       " (0.92, 204, 0, 7, 53),\n",
       " (0.93, 204, 0, 7, 53),\n",
       " (0.9400000000000001, 204, 0, 7, 53),\n",
       " (0.9500000000000001, 204, 0, 7, 53),\n",
       " (0.96, 204, 0, 7, 53),\n",
       " (0.97, 203, 0, 8, 53),\n",
       " (0.98, 203, 0, 8, 53),\n",
       " (0.99, 202, 0, 9, 53),\n",
       " (1.0, 179, 0, 32, 53)]"
      ]
     },
     "execution_count": 13,
     "metadata": {},
     "output_type": "execute_result"
    }
   ],
   "source": [
    "#evaluate model on all thresholds from 0.0 to 1.0 with step 0.01\n",
    "scores = []\n",
    "thresholds =  np.linspace(0, 1, 101)\n",
    "for t in thresholds:\n",
    "    actual_positive = (y_val == 1)\n",
    "    actual_negative = (y_val == 0)\n",
    "    predict_positive = (y_pred >= t)\n",
    "    predict_negative = (y_pred < t)\n",
    "    tp = (predict_positive & actual_positive).sum()\n",
    "    tn = (predict_negative & actual_negative).sum()\n",
    "    fp = (predict_positive & actual_negative).sum()\n",
    "    fn = (predict_negative & actual_positive).sum()\n",
    "    scores.append((t, tp, fp, fn, tn))\n",
    "scores"
   ]
  },
  {
   "cell_type": "code",
   "execution_count": 14,
   "id": "eec54fec",
   "metadata": {},
   "outputs": [],
   "source": [
    "#compute precision and recall for each threshold\n",
    "columns = ['threshold', 'tp', 'fp', 'fn', 'tn']\n",
    "cc_scores = pd.DataFrame(scores, columns=columns)\n",
    "cc_scores['precision'] = cc_scores['tp'] / (cc_scores['tp'] + cc_scores['fp'])\n",
    "cc_scores['recall'] = cc_scores['tp'] / (cc_scores['tp'] + cc_scores['fn'])"
   ]
  },
  {
   "cell_type": "code",
   "execution_count": 15,
   "id": "f5b1502a",
   "metadata": {},
   "outputs": [
    {
     "data": {
      "text/plain": [
       "<matplotlib.legend.Legend at 0x1c692fb3bb0>"
      ]
     },
     "execution_count": 15,
     "metadata": {},
     "output_type": "execute_result"
    },
    {
     "data": {
      "image/png": "[encoded data removed]",
      "text/plain": [
       "<Figure size 640x480 with 1 Axes>"
      ]
     },
     "metadata": {},
     "output_type": "display_data"
    }
   ],
   "source": [
    "#plot precision and recall for each threshold\n",
    "plt.plot(cc_scores['threshold'], cc_scores['precision'], label='precision')\n",
    "plt.plot(cc_scores['threshold'], cc_scores['recall'], label='recall')\n",
    "plt.legend()"
   ]
  },
  {
   "cell_type": "markdown",
   "id": "686a53a0",
   "metadata": {},
   "source": [
    "###  Question 4"
   ]
  },
  {
   "cell_type": "code",
   "execution_count": 16,
   "id": "b6849e6d",
   "metadata": {},
   "outputs": [
    {
     "data": {
      "text/html": [
       "<div>\n",
       "<style scoped>\n",
       "    .dataframe tbody tr th:only-of-type {\n",
       "        vertical-align: middle;\n",
       "    }\n",
       "\n",
       "    .dataframe tbody tr th {\n",
       "        vertical-align: top;\n",
       "    }\n",
       "\n",
       "    .dataframe thead th {\n",
       "        text-align: right;\n",
       "    }\n",
       "</style>\n",
       "<table border=\"1\" class=\"dataframe\">\n",
       "  <thead>\n",
       "    <tr style=\"text-align: right;\">\n",
       "      <th></th>\n",
       "      <th>threshold</th>\n",
       "      <th>tp</th>\n",
       "      <th>fp</th>\n",
       "      <th>fn</th>\n",
       "      <th>tn</th>\n",
       "      <th>precision</th>\n",
       "      <th>recall</th>\n",
       "      <th>f1</th>\n",
       "    </tr>\n",
       "  </thead>\n",
       "  <tbody>\n",
       "    <tr>\n",
       "      <th>35</th>\n",
       "      <td>0.35</td>\n",
       "      <td>205</td>\n",
       "      <td>1</td>\n",
       "      <td>6</td>\n",
       "      <td>52</td>\n",
       "      <td>0.995146</td>\n",
       "      <td>0.971564</td>\n",
       "      <td>0.983213</td>\n",
       "    </tr>\n",
       "    <tr>\n",
       "      <th>36</th>\n",
       "      <td>0.36</td>\n",
       "      <td>205</td>\n",
       "      <td>1</td>\n",
       "      <td>6</td>\n",
       "      <td>52</td>\n",
       "      <td>0.995146</td>\n",
       "      <td>0.971564</td>\n",
       "      <td>0.983213</td>\n",
       "    </tr>\n",
       "    <tr>\n",
       "      <th>37</th>\n",
       "      <td>0.37</td>\n",
       "      <td>205</td>\n",
       "      <td>1</td>\n",
       "      <td>6</td>\n",
       "      <td>52</td>\n",
       "      <td>0.995146</td>\n",
       "      <td>0.971564</td>\n",
       "      <td>0.983213</td>\n",
       "    </tr>\n",
       "    <tr>\n",
       "      <th>38</th>\n",
       "      <td>0.38</td>\n",
       "      <td>205</td>\n",
       "      <td>1</td>\n",
       "      <td>6</td>\n",
       "      <td>52</td>\n",
       "      <td>0.995146</td>\n",
       "      <td>0.971564</td>\n",
       "      <td>0.983213</td>\n",
       "    </tr>\n",
       "    <tr>\n",
       "      <th>39</th>\n",
       "      <td>0.39</td>\n",
       "      <td>205</td>\n",
       "      <td>1</td>\n",
       "      <td>6</td>\n",
       "      <td>52</td>\n",
       "      <td>0.995146</td>\n",
       "      <td>0.971564</td>\n",
       "      <td>0.983213</td>\n",
       "    </tr>\n",
       "    <tr>\n",
       "      <th>40</th>\n",
       "      <td>0.40</td>\n",
       "      <td>205</td>\n",
       "      <td>1</td>\n",
       "      <td>6</td>\n",
       "      <td>52</td>\n",
       "      <td>0.995146</td>\n",
       "      <td>0.971564</td>\n",
       "      <td>0.983213</td>\n",
       "    </tr>\n",
       "    <tr>\n",
       "      <th>41</th>\n",
       "      <td>0.41</td>\n",
       "      <td>205</td>\n",
       "      <td>1</td>\n",
       "      <td>6</td>\n",
       "      <td>52</td>\n",
       "      <td>0.995146</td>\n",
       "      <td>0.971564</td>\n",
       "      <td>0.983213</td>\n",
       "    </tr>\n",
       "  </tbody>\n",
       "</table>\n",
       "</div>"
      ],
      "text/plain": [
       "    threshold   tp  fp  fn  tn  precision    recall        f1\n",
       "35       0.35  205   1   6  52   0.995146  0.971564  0.983213\n",
       "36       0.36  205   1   6  52   0.995146  0.971564  0.983213\n",
       "37       0.37  205   1   6  52   0.995146  0.971564  0.983213\n",
       "38       0.38  205   1   6  52   0.995146  0.971564  0.983213\n",
       "39       0.39  205   1   6  52   0.995146  0.971564  0.983213\n",
       "40       0.40  205   1   6  52   0.995146  0.971564  0.983213\n",
       "41       0.41  205   1   6  52   0.995146  0.971564  0.983213"
      ]
     },
     "execution_count": 16,
     "metadata": {},
     "output_type": "execute_result"
    }
   ],
   "source": [
    "#compute f1 for each threshold\n",
    "cc_scores['f1'] = (2 * cc_scores['precision'] * cc_scores['recall']) / (cc_scores['precision'] + cc_scores['recall'])\n",
    "cc_scores.loc[cc_scores['f1'] == cc_scores['f1'].max()]"
   ]
  },
  {
   "cell_type": "markdown",
   "id": "1192af1f",
   "metadata": {},
   "source": [
    "###  Question 5"
   ]
  },
  {
   "cell_type": "code",
   "execution_count": 17,
   "id": "5cb214b8",
   "metadata": {},
   "outputs": [
    {
     "data": {
      "application/vnd.jupyter.widget-view+json": {
       "model_id": "834f54e7afaa490c8f1713ae87f17ece",
       "version_major": 2,
       "version_minor": 0
      },
      "text/plain": [
       "  0%|          | 0/5 [00:00<?, ?it/s]"
      ]
     },
     "metadata": {},
     "output_type": "display_data"
    },
    {
     "name": "stdout",
     "output_type": "stream",
     "text": [
      "0.996 +- 0.003\n"
     ]
    }
   ],
   "source": [
    "#train a model for each fold and calculate standard deviation of the auc scores across different folds\n",
    "scores = []\n",
    "n_splits = 5\n",
    "kfold = KFold(n_splits=n_splits, shuffle=True, random_state=1)\n",
    "for train_idx, val_idx in tqdm(kfold.split(cc_full_train), total=n_splits):\n",
    "    cc_train = cc_full_train.iloc[train_idx]\n",
    "    cc_val = cc_full_train.iloc[val_idx]\n",
    "    y_train = cc_train['card'].values\n",
    "    y_val = cc_val['card'].values\n",
    "    dv, model = train(cc_train, y_train)\n",
    "    y_pred = predict(cc_val, dv, model)\n",
    "    auc = roc_auc_score(y_val, y_pred)\n",
    "    scores.append(auc)\n",
    "print('%.3f +- %.3f' % (np.mean(scores), np.std(scores)))"
   ]
  },
  {
   "cell_type": "markdown",
   "id": "25f1f479",
   "metadata": {},
   "source": [
    "###  Question 6"
   ]
  },
  {
   "cell_type": "code",
   "execution_count": 18,
   "id": "4139fb29",
   "metadata": {},
   "outputs": [
    {
     "data": {
      "application/vnd.jupyter.widget-view+json": {
       "model_id": "8fc634e5a5ef43e1900bf6c2ea939e98",
       "version_major": 2,
       "version_minor": 0
      },
      "text/plain": [
       "  0%|          | 0/4 [00:00<?, ?it/s]"
      ]
     },
     "metadata": {},
     "output_type": "display_data"
    },
    {
     "data": {
      "application/vnd.jupyter.widget-view+json": {
       "model_id": "907011fe641c441eb4652531de8c1ec9",
       "version_major": 2,
       "version_minor": 0
      },
      "text/plain": [
       "  0%|          | 0/5 [00:00<?, ?it/s]"
      ]
     },
     "metadata": {},
     "output_type": "display_data"
    },
    {
     "name": "stdout",
     "output_type": "stream",
     "text": [
      "C=0.01 0.992 +- 0.006\n"
     ]
    },
    {
     "data": {
      "application/vnd.jupyter.widget-view+json": {
       "model_id": "98156d3a0dad4778b4ca08538a823cfd",
       "version_major": 2,
       "version_minor": 0
      },
      "text/plain": [
       "  0%|          | 0/5 [00:00<?, ?it/s]"
      ]
     },
     "metadata": {},
     "output_type": "display_data"
    },
    {
     "name": "stdout",
     "output_type": "stream",
     "text": [
      "C=0.1 0.995 +- 0.004\n"
     ]
    },
    {
     "data": {
      "application/vnd.jupyter.widget-view+json": {
       "model_id": "b81e1fc95d794cddb07666a724a1fdfb",
       "version_major": 2,
       "version_minor": 0
      },
      "text/plain": [
       "  0%|          | 0/5 [00:00<?, ?it/s]"
      ]
     },
     "metadata": {},
     "output_type": "display_data"
    },
    {
     "name": "stdout",
     "output_type": "stream",
     "text": [
      "C=1 0.996 +- 0.003\n"
     ]
    },
    {
     "data": {
      "application/vnd.jupyter.widget-view+json": {
       "model_id": "6d71d518a2a84b43ba1491f93d0a3f28",
       "version_major": 2,
       "version_minor": 0
      },
      "text/plain": [
       "  0%|          | 0/5 [00:00<?, ?it/s]"
      ]
     },
     "metadata": {},
     "output_type": "display_data"
    },
    {
     "name": "stdout",
     "output_type": "stream",
     "text": [
      "C=10 0.996 +- 0.003\n"
     ]
    }
   ],
   "source": [
    "for C in tqdm([0.01, 0.1, 1, 10]):\n",
    "    scores = []\n",
    "    n_splits = 5\n",
    "    kfold = KFold(n_splits=n_splits, shuffle=True, random_state=1)\n",
    "    for train_idx, val_idx in tqdm(kfold.split(cc_full_train), total=n_splits):\n",
    "        cc_train = cc_full_train.iloc[train_idx]\n",
    "        cc_val = cc_full_train.iloc[val_idx]\n",
    "        y_train = cc_train['card'].values\n",
    "        y_val = cc_val['card'].values\n",
    "        dv, model = train(cc_train, y_train, C=C)\n",
    "        y_pred = predict(cc_val, dv, model)\n",
    "        auc = roc_auc_score(y_val, y_pred)\n",
    "        scores.append(auc)\n",
    "    print('C=%s %.3f +- %.3f' % (C, np.mean(scores), np.std(scores)))"
   ]
  }
 ],
 "metadata": {
  "kernelspec": {
   "display_name": "Python 3 (ipykernel)",
   "language": "python",
   "name": "python3"
  },
  "language_info": {
   "codemirror_mode": {
    "name": "ipython",
    "version": 3
   },
   "file_extension": ".py",
   "mimetype": "text/x-python",
   "name": "python",
   "nbconvert_exporter": "python",
   "pygments_lexer": "ipython3",
   "version": "3.8.8"
  }
 },
 "nbformat": 4,
 "nbformat_minor": 5
}
